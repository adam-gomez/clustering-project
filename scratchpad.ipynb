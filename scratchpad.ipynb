{
 "cells": [
  {
   "cell_type": "markdown",
   "metadata": {},
   "source": [
    "Current Goal:\n",
    "Ensure that data is being prepped in the most appropriate way possible"
   ]
  },
  {
   "cell_type": "code",
   "execution_count": 1,
   "metadata": {},
   "outputs": [],
   "source": [
    "# ignore warnings\n",
    "import warnings\n",
    "warnings.filterwarnings(\"ignore\")\n",
    "\n",
    "# Wrangling\n",
    "import pandas as pd\n",
    "import numpy as np\n",
    "from sklearn.model_selection import train_test_split\n",
    "import env\n",
    "from os import path \n",
    "import math\n",
    "import os\n",
    "from sklearn.preprocessing import StandardScaler, QuantileTransformer, PowerTransformer, RobustScaler, MinMaxScaler\n",
    "\n",
    "# Statistical Tests\n",
    "import scipy.stats as stats\n",
    "\n",
    "# Visualizing\n",
    "import matplotlib.pyplot as plt\n",
    "from matplotlib import cm\n",
    "import seaborn as sns"
   ]
  },
  {
   "cell_type": "code",
   "execution_count": 2,
   "metadata": {},
   "outputs": [],
   "source": [
    "def get_connection(database):\n",
    "    '''\n",
    "    Database: string; name of database that the url is being created for\n",
    "    '''\n",
    "    return f'mysql+pymysql://{env.user}:{env.password}@{env.host}/{database}'"
   ]
  },
  {
   "cell_type": "code",
   "execution_count": 3,
   "metadata": {},
   "outputs": [],
   "source": [
    "sql_query = '''\n",
    "SELECT prop.*, logerror, transactiondate, airconditioningdesc, architecturalstyledesc, buildingclassdesc, heatingorsystemdesc, propertylandusedesc, storydesc, typeconstructiondesc\n",
    "FROM properties_2017 as prop \n",
    "INNER JOIN (\n",
    "    SELECT id, p.parcelid, logerror, transactiondate\n",
    "    FROM predictions_2017 AS p\n",
    "    INNER JOIN (\n",
    "        SELECT parcelid,  MAX(transactiondate) AS max_date\n",
    "        FROM predictions_2017 \n",
    "        GROUP BY (parcelid)) AS sub\n",
    "            ON p.parcelid = sub.parcelid\n",
    "        WHERE p.transactiondate = sub.max_date\n",
    "        ) AS subq\n",
    "    ON prop.parcelid = subq.parcelid\n",
    "LEFT JOIN airconditioningtype\n",
    "    ON prop.airconditioningtypeid = airconditioningtype.airconditioningtypeid\n",
    "LEFT JOIN architecturalstyletype\n",
    "    ON prop.architecturalstyletypeid = architecturalstyletype.architecturalstyletypeid\n",
    "LEFT JOIN buildingclasstype \n",
    "    ON prop.buildingclasstypeid = buildingclasstype.buildingclasstypeid\n",
    "LEFT JOIN heatingorsystemtype\n",
    "    ON prop.heatingorsystemtypeid = heatingorsystemtype.heatingorsystemtypeid\n",
    "LEFT JOIN propertylandusetype\n",
    "    ON prop.propertylandusetypeid = propertylandusetype.propertylandusetypeid\n",
    "LEFT JOIN storytype\n",
    "    ON prop.storytypeid = storytype.storytypeid\n",
    "LEFT JOIN typeconstructiontype\n",
    "    ON prop.typeconstructiontypeid = typeconstructiontype.typeconstructiontypeid\n",
    "WHERE latitude IS NOT NULL \n",
    "    AND longitude IS NOT NULL\n",
    "    AND transactiondate BETWEEN '2017-01-01' AND '2017-12-31';\n",
    "'''"
   ]
  },
  {
   "cell_type": "code",
   "execution_count": 4,
   "metadata": {},
   "outputs": [],
   "source": [
    "def acquire_cache_zillow():\n",
    "    if not path.isfile('zillow.csv'):\n",
    "        url = get_connection('zillow')\n",
    "        zillow = pd.read_sql(sql_query, url)\n",
    "        zillow.to_csv('zillow.csv')\n",
    "    zillow = pd.read_csv('zillow.csv')\n",
    "    zillow.drop(columns=['Unnamed: 0'], inplace=True)\n",
    "    return zillow"
   ]
  },
  {
   "cell_type": "code",
   "execution_count": 5,
   "metadata": {},
   "outputs": [],
   "source": [
    "def handle_missing_values(df, prop_required_column = .5, prop_required_row = .75):\n",
    "    threshold = int(round(prop_required_column*len(df.index),0))\n",
    "    df.dropna(axis=1, thresh=threshold, inplace=True)\n",
    "    threshold = int(round(prop_required_row*len(df.columns),0))\n",
    "    df.dropna(axis=0, thresh=threshold, inplace=True)\n",
    "    return df"
   ]
  },
  {
   "cell_type": "code",
   "execution_count": 6,
   "metadata": {},
   "outputs": [],
   "source": [
    "def map_county(row):\n",
    "    if row['fips'] == 6037:\n",
    "        return 'Los Angeles'\n",
    "    elif row['fips'] == 6059:\n",
    "        return 'Orange'\n",
    "    elif row['fips'] == 6111:\n",
    "        return 'Ventura'"
   ]
  },
  {
   "cell_type": "code",
   "execution_count": 8,
   "metadata": {},
   "outputs": [],
   "source": [
    "def wrangle_zillow(df):\n",
    "    df = df[(df.propertylandusedesc == 'Single Family Residential')|(df.propertylandusedesc == 'Condominium')|(df.propertylandusedesc == 'Planned Unit Development')|(df.propertylandusedesc == 'Mobile Home')|(df.propertylandusedesc == 'Manufactured, Modular, Prefabricated Homes')|(df.propertylandusedesc == 'Residential General')]\n",
    "    df = df[df.bedroomcnt > 0]\n",
    "    df = df[~(df.unitcnt > 1)]\n",
    "    handle_missing_values(df)\n",
    "    df.drop(columns=['assessmentyear', 'calculatedbathnbr', 'finishedsquarefeet12', 'propertyzoningdesc', 'regionidcity', 'roomcnt', 'unitcnt'], inplace=True)\n",
    "    df = df.dropna(subset=['censustractandblock'])\n",
    "    df = df.dropna(subset=['regionidzip'])\n",
    "    columns_to_change = ['id', 'parcelid', 'fips', 'heatingorsystemtypeid', 'propertylandusetypeid', 'rawcensustractandblock', 'regionidcounty', 'regionidzip', 'censustractandblock']\n",
    "    for column in columns_to_change:\n",
    "        df[column] = df[column].astype(object)\n",
    "    df['fips'] = df.apply(lambda row: map_county(row), axis = 1)\n",
    "    return df"
   ]
  },
  {
   "cell_type": "code",
   "execution_count": null,
   "metadata": {},
   "outputs": [],
   "source": []
  }
 ],
 "metadata": {
  "kernelspec": {
   "display_name": "Python 3",
   "language": "python",
   "name": "python3"
  },
  "language_info": {
   "codemirror_mode": {
    "name": "ipython",
    "version": 3
   },
   "file_extension": ".py",
   "mimetype": "text/x-python",
   "name": "python",
   "nbconvert_exporter": "python",
   "pygments_lexer": "ipython3",
   "version": "3.7.6"
  }
 },
 "nbformat": 4,
 "nbformat_minor": 4
}
